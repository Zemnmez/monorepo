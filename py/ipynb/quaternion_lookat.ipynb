{
 "cells": [
  {
   "cell_type": "code",
   "execution_count": 3,
   "metadata": {},
   "outputs": [],
   "source": [
    "\n",
    "from sympy import Quaternion, solve, symbols, Eq\n",
    "\n",
    "centre = Quaternion(0, *symbols('c_i c_j c_k', real=True))\n",
    "\n",
    "# vector from centre upward\n",
    "up = Quaternion(0, *symbols('u_i u_j u_k', real=True))\n",
    "\n",
    "forward = Quaternion(0, *symbols('fw_i fw_j fw_k', real=True))\n",
    "\n",
    "r_w, r_i, r_j, r_k = symbols('r_w r_i r_j r_k', real=True)\n",
    "\n",
    "rotation = Quaternion(r_w, r_i, r_j, r_k)\n",
    "\n",
    "look_at = Quaternion(0, *symbols('la_i la_j la_k', real=True))\n",
    "\n",
    "centre_does_not_rotate = Eq(centre * rotation, centre)\n",
    "\n",
    "\n"
   ]
  },
  {
   "cell_type": "code",
   "execution_count": 4,
   "metadata": {},
   "outputs": [],
   "source": [
    "\n",
    "forward_will_look_at = Eq(\n",
    "\t((centre - forward) * rotation).normalize(),\n",
    "\t(centre - look_at).normalize()\n",
    ")\n",
    "\n",
    "length_of_forward_unchanged = Eq(\n",
    "\t(forward-centre).norm(),\n",
    "    ((forward * rotation) - centre).norm()\n",
    ")\n",
    "\n",
    "up_will_still_be_up = Eq(\n",
    "    (up * rotation),\n",
    "\tup\n",
    ")"
   ]
  }
 ],
 "metadata": {
  "kernelspec": {
   "display_name": ".venv",
   "language": "python",
   "name": "python3"
  },
  "language_info": {
   "codemirror_mode": {
    "name": "ipython",
    "version": 3
   },
   "file_extension": ".py",
   "mimetype": "text/x-python",
   "name": "python",
   "nbconvert_exporter": "python",
   "pygments_lexer": "ipython3",
   "version": "3.11.9"
  }
 },
 "nbformat": 4,
 "nbformat_minor": 2
}
